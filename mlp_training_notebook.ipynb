{
  "nbformat": 4,
  "nbformat_minor": 0,
  "metadata": {
    "colab": {
      "provenance": [],
      "authorship_tag": "ABX9TyOyIhPkD4ZhCRoRGHA7o8ZZ",
      "include_colab_link": true
    },
    "kernelspec": {
      "name": "python3",
      "display_name": "Python 3"
    },
    "language_info": {
      "name": "python"
    }
  },
  "cells": [
    {
      "cell_type": "markdown",
      "metadata": {
        "id": "view-in-github",
        "colab_type": "text"
      },
      "source": [
        "<a href=\"https://colab.research.google.com/github/Renaldinho/ML-ImageClassification/blob/main/mlp_training_notebook.ipynb\" target=\"_parent\"><img src=\"https://colab.research.google.com/assets/colab-badge.svg\" alt=\"Open In Colab\"/></a>"
      ]
    },
    {
      "cell_type": "code",
      "source": [
        "%pip install keras-tuner"
      ],
      "metadata": {
        "colab": {
          "base_uri": "https://localhost:8080/"
        },
        "id": "vJkLrxeEokqn",
        "outputId": "934ed875-a89a-427f-8093-26a7511c5256"
      },
      "execution_count": 1,
      "outputs": [
        {
          "output_type": "stream",
          "name": "stdout",
          "text": [
            "Requirement already satisfied: keras-tuner in /usr/local/lib/python3.10/dist-packages (1.4.7)\n",
            "Requirement already satisfied: keras in /usr/local/lib/python3.10/dist-packages (from keras-tuner) (3.5.0)\n",
            "Requirement already satisfied: packaging in /usr/local/lib/python3.10/dist-packages (from keras-tuner) (24.2)\n",
            "Requirement already satisfied: requests in /usr/local/lib/python3.10/dist-packages (from keras-tuner) (2.32.3)\n",
            "Requirement already satisfied: kt-legacy in /usr/local/lib/python3.10/dist-packages (from keras-tuner) (1.0.5)\n",
            "Requirement already satisfied: absl-py in /usr/local/lib/python3.10/dist-packages (from keras->keras-tuner) (1.4.0)\n",
            "Requirement already satisfied: numpy in /usr/local/lib/python3.10/dist-packages (from keras->keras-tuner) (1.26.4)\n",
            "Requirement already satisfied: rich in /usr/local/lib/python3.10/dist-packages (from keras->keras-tuner) (13.9.4)\n",
            "Requirement already satisfied: namex in /usr/local/lib/python3.10/dist-packages (from keras->keras-tuner) (0.0.8)\n",
            "Requirement already satisfied: h5py in /usr/local/lib/python3.10/dist-packages (from keras->keras-tuner) (3.12.1)\n",
            "Requirement already satisfied: optree in /usr/local/lib/python3.10/dist-packages (from keras->keras-tuner) (0.13.1)\n",
            "Requirement already satisfied: ml-dtypes in /usr/local/lib/python3.10/dist-packages (from keras->keras-tuner) (0.4.1)\n",
            "Requirement already satisfied: charset-normalizer<4,>=2 in /usr/local/lib/python3.10/dist-packages (from requests->keras-tuner) (3.4.0)\n",
            "Requirement already satisfied: idna<4,>=2.5 in /usr/local/lib/python3.10/dist-packages (from requests->keras-tuner) (3.10)\n",
            "Requirement already satisfied: urllib3<3,>=1.21.1 in /usr/local/lib/python3.10/dist-packages (from requests->keras-tuner) (2.2.3)\n",
            "Requirement already satisfied: certifi>=2017.4.17 in /usr/local/lib/python3.10/dist-packages (from requests->keras-tuner) (2024.8.30)\n",
            "Requirement already satisfied: typing-extensions>=4.5.0 in /usr/local/lib/python3.10/dist-packages (from optree->keras->keras-tuner) (4.12.2)\n",
            "Requirement already satisfied: markdown-it-py>=2.2.0 in /usr/local/lib/python3.10/dist-packages (from rich->keras->keras-tuner) (3.0.0)\n",
            "Requirement already satisfied: pygments<3.0.0,>=2.13.0 in /usr/local/lib/python3.10/dist-packages (from rich->keras->keras-tuner) (2.18.0)\n",
            "Requirement already satisfied: mdurl~=0.1 in /usr/local/lib/python3.10/dist-packages (from markdown-it-py>=2.2.0->rich->keras->keras-tuner) (0.1.2)\n"
          ]
        }
      ]
    },
    {
      "cell_type": "code",
      "source": [
        "import torch\n",
        "import torchvision"
      ],
      "metadata": {
        "id": "EhZ-e-doU8yt"
      },
      "execution_count": 2,
      "outputs": []
    },
    {
      "cell_type": "code",
      "execution_count": 3,
      "metadata": {
        "id": "vNDl1V0XR5oi"
      },
      "outputs": [],
      "source": [
        "train_dataset = torchvision.datasets.EMNIST(\n",
        "    root='./data',\n",
        "    split='digits',\n",
        "    train=True,\n",
        "    download=True,\n",
        "    transform=torchvision.transforms.ToTensor()\n",
        ")\n",
        "\n",
        "test_dataset = torchvision.datasets.EMNIST(\n",
        "    root='./data',\n",
        "    split='digits',\n",
        "    train=False,\n",
        "    download=True,\n",
        "    transform=torchvision.transforms.ToTensor()\n",
        ")\n",
        "\n",
        "\n",
        "\n"
      ]
    },
    {
      "cell_type": "code",
      "source": [],
      "metadata": {
        "id": "n368P95Zx2Rn"
      },
      "execution_count": 3,
      "outputs": []
    },
    {
      "cell_type": "markdown",
      "source": [
        "Data flattening and split"
      ],
      "metadata": {
        "id": "gLYVAUO2kUlW"
      }
    },
    {
      "cell_type": "code",
      "source": [
        "from sklearn.model_selection import train_test_split\n",
        "import numpy as np\n",
        "\n",
        "traning_images = np.array([data[0].numpy() for data in train_dataset])\n",
        "training_labels = np.array([data[1] for data in train_dataset])\n",
        "traning_images = traning_images.reshape(240000, 784)\n",
        "\n",
        "test_images = np.array([data[0].numpy() for data in test_dataset])\n",
        "test_labels = np.array([data[1] for data in test_dataset])\n",
        "test_images = test_images.reshape(40000, 784)\n",
        "\n",
        "x_train, x_validation, y_train, y_validation = train_test_split(traning_images, training_labels, test_size=0.2, random_state=42)\n",
        "\n",
        "\n"
      ],
      "metadata": {
        "id": "YkQDxSxsYujU"
      },
      "execution_count": 4,
      "outputs": []
    },
    {
      "cell_type": "code",
      "source": [
        "print(x_train.shape)\n",
        "print(y_train.shape)\n",
        "print(x_validation.shape)\n",
        "print(y_validation.shape)\n",
        "\n",
        "print(test_images.shape)\n",
        "print(test_labels.shape)"
      ],
      "metadata": {
        "colab": {
          "base_uri": "https://localhost:8080/"
        },
        "id": "Me5FRp_xkW8E",
        "outputId": "c0d45240-c025-468b-f151-2269e1b0c256"
      },
      "execution_count": 5,
      "outputs": [
        {
          "output_type": "stream",
          "name": "stdout",
          "text": [
            "(192000, 784)\n",
            "(192000,)\n",
            "(48000, 784)\n",
            "(48000,)\n",
            "(40000, 784)\n",
            "(40000,)\n"
          ]
        }
      ]
    },
    {
      "cell_type": "code",
      "source": [
        "import tensorflow as tf\n",
        "from tensorflow.keras import Sequential\n",
        "from tensorflow.keras.layers import Dense, Dropout\n",
        "\n",
        "model = Sequential(\n",
        "    [\n",
        "        Dense(768, activation='relu'),\n",
        "        Dense(10, activation='softmax')\n",
        "    ]\n",
        ")\n",
        "\n",
        "model.compile(optimizer=\"adam\", loss=\"sparse_categorical_crossentropy\", metrics=[\"accuracy\"])"
      ],
      "metadata": {
        "id": "TfeH9L-vnZEj"
      },
      "execution_count": 6,
      "outputs": []
    },
    {
      "cell_type": "code",
      "source": [
        "training = model.fit(x_train, y_train, epochs=10, validation_data=(x_validation, y_validation))"
      ],
      "metadata": {
        "colab": {
          "base_uri": "https://localhost:8080/"
        },
        "id": "3MSsqB2KtVFO",
        "outputId": "1cb596a5-4720-4036-f32e-795d096304a2"
      },
      "execution_count": 7,
      "outputs": [
        {
          "output_type": "stream",
          "name": "stdout",
          "text": [
            "Epoch 1/10\n",
            "\u001b[1m6000/6000\u001b[0m \u001b[32m━━━━━━━━━━━━━━━━━━━━\u001b[0m\u001b[37m\u001b[0m \u001b[1m66s\u001b[0m 11ms/step - accuracy: 0.9502 - loss: 0.1710 - val_accuracy: 0.9835 - val_loss: 0.0577\n",
            "Epoch 2/10\n",
            "\u001b[1m6000/6000\u001b[0m \u001b[32m━━━━━━━━━━━━━━━━━━━━\u001b[0m\u001b[37m\u001b[0m \u001b[1m82s\u001b[0m 11ms/step - accuracy: 0.9854 - loss: 0.0476 - val_accuracy: 0.9860 - val_loss: 0.0498\n",
            "Epoch 3/10\n",
            "\u001b[1m6000/6000\u001b[0m \u001b[32m━━━━━━━━━━━━━━━━━━━━\u001b[0m\u001b[37m\u001b[0m \u001b[1m81s\u001b[0m 10ms/step - accuracy: 0.9900 - loss: 0.0336 - val_accuracy: 0.9856 - val_loss: 0.0518\n",
            "Epoch 4/10\n",
            "\u001b[1m6000/6000\u001b[0m \u001b[32m━━━━━━━━━━━━━━━━━━━━\u001b[0m\u001b[37m\u001b[0m \u001b[1m88s\u001b[0m 11ms/step - accuracy: 0.9919 - loss: 0.0271 - val_accuracy: 0.9849 - val_loss: 0.0625\n",
            "Epoch 5/10\n",
            "\u001b[1m6000/6000\u001b[0m \u001b[32m━━━━━━━━━━━━━━━━━━━━\u001b[0m\u001b[37m\u001b[0m \u001b[1m80s\u001b[0m 11ms/step - accuracy: 0.9927 - loss: 0.0230 - val_accuracy: 0.9858 - val_loss: 0.0572\n",
            "Epoch 6/10\n",
            "\u001b[1m6000/6000\u001b[0m \u001b[32m━━━━━━━━━━━━━━━━━━━━\u001b[0m\u001b[37m\u001b[0m \u001b[1m64s\u001b[0m 11ms/step - accuracy: 0.9940 - loss: 0.0205 - val_accuracy: 0.9871 - val_loss: 0.0609\n",
            "Epoch 7/10\n",
            "\u001b[1m6000/6000\u001b[0m \u001b[32m━━━━━━━━━━━━━━━━━━━━\u001b[0m\u001b[37m\u001b[0m \u001b[1m65s\u001b[0m 11ms/step - accuracy: 0.9945 - loss: 0.0182 - val_accuracy: 0.9860 - val_loss: 0.0666\n",
            "Epoch 8/10\n",
            "\u001b[1m6000/6000\u001b[0m \u001b[32m━━━━━━━━━━━━━━━━━━━━\u001b[0m\u001b[37m\u001b[0m \u001b[1m65s\u001b[0m 11ms/step - accuracy: 0.9954 - loss: 0.0163 - val_accuracy: 0.9885 - val_loss: 0.0627\n",
            "Epoch 9/10\n",
            "\u001b[1m6000/6000\u001b[0m \u001b[32m━━━━━━━━━━━━━━━━━━━━\u001b[0m\u001b[37m\u001b[0m \u001b[1m69s\u001b[0m 11ms/step - accuracy: 0.9959 - loss: 0.0145 - val_accuracy: 0.9884 - val_loss: 0.0643\n",
            "Epoch 10/10\n",
            "\u001b[1m6000/6000\u001b[0m \u001b[32m━━━━━━━━━━━━━━━━━━━━\u001b[0m\u001b[37m\u001b[0m \u001b[1m78s\u001b[0m 11ms/step - accuracy: 0.9964 - loss: 0.0124 - val_accuracy: 0.9835 - val_loss: 0.0914\n"
          ]
        }
      ]
    },
    {
      "cell_type": "code",
      "source": [
        "import pandas as pd\n",
        "import matplotlib.pyplot as plt\n",
        "pd.DataFrame(training.history).plot(figsize=(8, 5))\n",
        "plt.grid(True)\n",
        "plt.gca().set_ylim(0, 1)\n",
        "plt.show()"
      ],
      "metadata": {
        "colab": {
          "base_uri": "https://localhost:8080/",
          "height": 451
        },
        "id": "R_PSuDsTv7wN",
        "outputId": "ca46b72b-22c0-4c62-bc2e-ee18267b5349"
      },
      "execution_count": 8,
      "outputs": [
        {
          "output_type": "display_data",
          "data": {
            "text/plain": [
              "<Figure size 800x500 with 1 Axes>"
            ],
            "image/png": "[encoded data removed]"
          },
          "metadata": {}
        }
      ]
    },
    {
      "cell_type": "code",
      "source": [
        "y_pred = model.predict(test_images)\n",
        "\n",
        "y_pred_labels = np.argmax(y_pred, axis=1)\n",
        "\n",
        "num_samples = 5\n",
        "sample_indices = np.random.choice(len(test_images), num_samples, replace=False)\n",
        "\n",
        "plt.figure(figsize=(10, 5))\n",
        "for i, idx in enumerate(sample_indices):\n",
        "    plt.subplot(1, num_samples, i + 1)\n",
        "    plt.imshow(test_images[idx].reshape(28, 28), cmap='gray')\n",
        "    plt.title(f\"Pred: {y_pred_labels[idx]}, True: {test_labels[idx]}\")\n",
        "    plt.axis('off')\n",
        "plt.show()"
      ],
      "metadata": {
        "colab": {
          "base_uri": "https://localhost:8080/",
          "height": 209
        },
        "id": "iYsxAtTZz7ne",
        "outputId": "18d02d06-3b50-4ea0-a210-d0d7422934a9"
      },
      "execution_count": 9,
      "outputs": [
        {
          "output_type": "stream",
          "name": "stdout",
          "text": [
            "\u001b[1m1250/1250\u001b[0m \u001b[32m━━━━━━━━━━━━━━━━━━━━\u001b[0m\u001b[37m\u001b[0m \u001b[1m4s\u001b[0m 3ms/step\n"
          ]
        },
        {
          "output_type": "display_data",
          "data": {
            "text/plain": [
              "<Figure size 1000x500 with 5 Axes>"
            ],
            "image/png": "[encoded data removed]"
          },
          "metadata": {}
        }
      ]
    },
    {
      "cell_type": "code",
      "source": [
        "from sklearn.metrics import classification_report\n",
        "\n",
        "print(classification_report(test_labels, y_pred_labels))"
      ],
      "metadata": {
        "colab": {
          "base_uri": "https://localhost:8080/"
        },
        "id": "-_ZGrAln0ima",
        "outputId": "dc147eb2-6726-4b30-ed15-4ca96924f81f"
      },
      "execution_count": 10,
      "outputs": [
        {
          "output_type": "stream",
          "name": "stdout",
          "text": [
            "              precision    recall  f1-score   support\n",
            "\n",
            "           0       1.00      0.99      0.99      4000\n",
            "           1       1.00      0.99      0.99      4000\n",
            "           2       0.99      0.98      0.99      4000\n",
            "           3       0.96      0.99      0.98      4000\n",
            "           4       0.99      0.99      0.99      4000\n",
            "           5       0.99      0.96      0.98      4000\n",
            "           6       0.99      0.99      0.99      4000\n",
            "           7       0.99      0.99      0.99      4000\n",
            "           8       0.97      0.98      0.97      4000\n",
            "           9       0.98      0.99      0.98      4000\n",
            "\n",
            "    accuracy                           0.99     40000\n",
            "   macro avg       0.99      0.99      0.99     40000\n",
            "weighted avg       0.99      0.99      0.99     40000\n",
            "\n"
          ]
        }
      ]
    },
    {
      "cell_type": "code",
      "source": [
        "report = classification_report(test_labels, y_pred_labels, output_dict=True)\n",
        "\n",
        "average_precision = report['macro avg']['precision']\n",
        "average_recall = report['macro avg']['recall']\n",
        "average_f1 = report['macro avg']['f1-score']\n",
        "\n",
        "print(f\"Average Precision: {average_precision:.3f}\")\n",
        "print(f\"Average Recall: {average_recall:.3f}\")\n",
        "print(f\"Average F1-score: {average_f1:.3f}\")"
      ],
      "metadata": {
        "colab": {
          "base_uri": "https://localhost:8080/"
        },
        "id": "6iwFmHYN15dy",
        "outputId": "fdd3ce29-b9eb-41e0-81a6-10135050fdf8"
      },
      "execution_count": 11,
      "outputs": [
        {
          "output_type": "stream",
          "name": "stdout",
          "text": [
            "Average Precision: 0.986\n",
            "Average Recall: 0.985\n",
            "Average F1-score: 0.986\n"
          ]
        }
      ]
    },
    {
      "cell_type": "code",
      "source": [
        "model.evaluate(test_images, test_labels)"
      ],
      "metadata": {
        "colab": {
          "base_uri": "https://localhost:8080/"
        },
        "id": "30Iyl28L3A5g",
        "outputId": "a2b60ce0-7a78-468d-8aee-5e3037c957cd"
      },
      "execution_count": 12,
      "outputs": [
        {
          "output_type": "stream",
          "name": "stdout",
          "text": [
            "\u001b[1m1250/1250\u001b[0m \u001b[32m━━━━━━━━━━━━━━━━━━━━\u001b[0m\u001b[37m\u001b[0m \u001b[1m5s\u001b[0m 4ms/step - accuracy: 0.9844 - loss: 0.0874\n"
          ]
        },
        {
          "output_type": "execute_result",
          "data": {
            "text/plain": [
              "[0.07911883294582367, 0.9854999780654907]"
            ]
          },
          "metadata": {},
          "execution_count": 12
        }
      ]
    },
    {
      "cell_type": "markdown",
      "source": [],
      "metadata": {
        "id": "Gh229lkg3NBK"
      }
    },
    {
      "cell_type": "code",
      "source": [
        "%pip install keras-tuner"
      ],
      "metadata": {
        "colab": {
          "base_uri": "https://localhost:8080/"
        },
        "id": "oLib3VVc3MT1",
        "outputId": "c3aff28d-a96e-4211-8170-bf8223e3af3c"
      },
      "execution_count": 13,
      "outputs": [
        {
          "output_type": "stream",
          "name": "stdout",
          "text": [
            "Requirement already satisfied: keras-tuner in /usr/local/lib/python3.10/dist-packages (1.4.7)\n",
            "Requirement already satisfied: keras in /usr/local/lib/python3.10/dist-packages (from keras-tuner) (3.5.0)\n",
            "Requirement already satisfied: packaging in /usr/local/lib/python3.10/dist-packages (from keras-tuner) (24.2)\n",
            "Requirement already satisfied: requests in /usr/local/lib/python3.10/dist-packages (from keras-tuner) (2.32.3)\n",
            "Requirement already satisfied: kt-legacy in /usr/local/lib/python3.10/dist-packages (from keras-tuner) (1.0.5)\n",
            "Requirement already satisfied: absl-py in /usr/local/lib/python3.10/dist-packages (from keras->keras-tuner) (1.4.0)\n",
            "Requirement already satisfied: numpy in /usr/local/lib/python3.10/dist-packages (from keras->keras-tuner) (1.26.4)\n",
            "Requirement already satisfied: rich in /usr/local/lib/python3.10/dist-packages (from keras->keras-tuner) (13.9.4)\n",
            "Requirement already satisfied: namex in /usr/local/lib/python3.10/dist-packages (from keras->keras-tuner) (0.0.8)\n",
            "Requirement already satisfied: h5py in /usr/local/lib/python3.10/dist-packages (from keras->keras-tuner) (3.12.1)\n",
            "Requirement already satisfied: optree in /usr/local/lib/python3.10/dist-packages (from keras->keras-tuner) (0.13.1)\n",
            "Requirement already satisfied: ml-dtypes in /usr/local/lib/python3.10/dist-packages (from keras->keras-tuner) (0.4.1)\n",
            "Requirement already satisfied: charset-normalizer<4,>=2 in /usr/local/lib/python3.10/dist-packages (from requests->keras-tuner) (3.4.0)\n",
            "Requirement already satisfied: idna<4,>=2.5 in /usr/local/lib/python3.10/dist-packages (from requests->keras-tuner) (3.10)\n",
            "Requirement already satisfied: urllib3<3,>=1.21.1 in /usr/local/lib/python3.10/dist-packages (from requests->keras-tuner) (2.2.3)\n",
            "Requirement already satisfied: certifi>=2017.4.17 in /usr/local/lib/python3.10/dist-packages (from requests->keras-tuner) (2024.8.30)\n",
            "Requirement already satisfied: typing-extensions>=4.5.0 in /usr/local/lib/python3.10/dist-packages (from optree->keras->keras-tuner) (4.12.2)\n",
            "Requirement already satisfied: markdown-it-py>=2.2.0 in /usr/local/lib/python3.10/dist-packages (from rich->keras->keras-tuner) (3.0.0)\n",
            "Requirement already satisfied: pygments<3.0.0,>=2.13.0 in /usr/local/lib/python3.10/dist-packages (from rich->keras->keras-tuner) (2.18.0)\n",
            "Requirement already satisfied: mdurl~=0.1 in /usr/local/lib/python3.10/dist-packages (from markdown-it-py>=2.2.0->rich->keras->keras-tuner) (0.1.2)\n"
          ]
        }
      ]
    },
    {
      "cell_type": "code",
      "source": [
        "from tensorflow import keras\n",
        "from tensorflow.keras import layers\n",
        "from tensorflow.keras.optimizers import SGD\n",
        "\n",
        "def build_model(hp):\n",
        "  n_hidden = hp.Int('n_hidden', min_value=1, max_value=10)\n",
        "  n_neurons = hp.Int('n_neurons', min_value=16, max_value=256, step=16)\n",
        "  learning_rate = hp.Float('learning_rate', min_value=1e-4, max_value=1e-2, sampling='log')\n",
        "\n",
        "  model = keras.Sequential()\n",
        "  model.add(Dense(768, activation='relu'))\n",
        "  for _ in range(n_hidden):\n",
        "    model.add(Dense(n_neurons, activation='relu'))\n",
        "\n",
        "  model.add(Dense(10, activation='softmax'))\n",
        "\n",
        "  optimizer = SGD(learning_rate=learning_rate)\n",
        "  model.compile(optimizer=optimizer, loss='sparse_categorical_crossentropy', metrics=['accuracy'])\n",
        "\n",
        "  return model\n",
        "\n"
      ],
      "metadata": {
        "id": "tsfFZWg-3RV_"
      },
      "execution_count": 14,
      "outputs": []
    },
    {
      "cell_type": "code",
      "source": [
        "\n",
        "from kerastuner.tuners import RandomSearch\n",
        "from tensorflow.keras.callbacks import EarlyStopping\n",
        "\n",
        "!rm -rf randomsearch_digit_classification_tuning\n",
        "\n",
        "tuner = RandomSearch(\n",
        "    build_model,\n",
        "    objective='val_accuracy',\n",
        "    max_trials=10,\n",
        "    executions_per_trial=1,\n",
        "    directory='randomsearch_digit_classification_tuning'\n",
        ")\n",
        "\n",
        "early_stopping = EarlyStopping(monitor='val_loss', patience=1, restore_best_weights=True)\n",
        "\n",
        "tuner.search(x_train, y_train, epochs=10, validation_data=(x_validation, y_validation), callbacks=[early_stopping])\n",
        "\n",
        "best_model = tuner.get_best_models(num_models=1)[0]"
      ],
      "metadata": {
        "colab": {
          "base_uri": "https://localhost:8080/"
        },
        "id": "PgyvIL6S5MTr",
        "outputId": "dc9d90d1-27ef-4d1a-b36f-b7e5460316e0"
      },
      "execution_count": 15,
      "outputs": [
        {
          "output_type": "stream",
          "name": "stdout",
          "text": [
            "Trial 10 Complete [00h 11m 39s]\n",
            "val_accuracy: 0.981416642665863\n",
            "\n",
            "Best val_accuracy So Far: 0.981416642665863\n",
            "Total elapsed time: 02h 02m 11s\n"
          ]
        }
      ]
    },
    {
      "cell_type": "code",
      "source": [
        "from kerastuner.tuners import Hyperband\n",
        "\n",
        "!rm -rf hyperband_digit_classification_tuning\n",
        "\n",
        "tuner = Hyperband(\n",
        "    build_model,\n",
        "    objective='val_accuracy',\n",
        "    max_epochs=10,\n",
        "    factor=3,\n",
        "    directory='hyperband_digit_classification_tuning',\n",
        ")\n",
        "\n",
        "stop_early = EarlyStopping(monitor='val_loss', patience=1)\n",
        "\n",
        "tuner.search(x_train, y_train, epochs=10, validation_data=(x_validation, y_validation),\n",
        "              callbacks=[stop_early])\n",
        "\n",
        "# Get the best model\n",
        "best_model_hyperband = tuner.get_best_models(num_models=1)[0]"
      ],
      "metadata": {
        "colab": {
          "base_uri": "https://localhost:8080/"
        },
        "id": "7NScGNW77hDO",
        "outputId": "93e4b33b-0b36-4de9-872d-4c935cd4ccad"
      },
      "execution_count": 17,
      "outputs": [
        {
          "output_type": "stream",
          "name": "stdout",
          "text": [
            "Trial 30 Complete [00h 13m 10s]\n",
            "val_accuracy: 0.9616666436195374\n",
            "\n",
            "Best val_accuracy So Far: 0.9863125085830688\n",
            "Total elapsed time: 02h 17m 18s\n"
          ]
        }
      ]
    }
  ]
}